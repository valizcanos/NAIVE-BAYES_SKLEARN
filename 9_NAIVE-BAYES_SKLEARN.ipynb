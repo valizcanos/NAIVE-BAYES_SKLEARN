{
 "cells": [
  {
   "cell_type": "code",
   "execution_count": 1,
   "metadata": {},
   "outputs": [],
   "source": [
    "#Para los cálculos matemáticos\n",
    "import numpy as np\n",
    "#Para el manejo de datos\n",
    "import pandas as pd\n",
    "#para realizar los gráficos\n",
    "from matplotlib import pyplot as plt \n",
    "#Importar librería para realizar un árbol de decisiones\n",
    "from sklearn.naive_bayes import GaussianNB"
   ]
  },
  {
   "cell_type": "code",
   "execution_count": 2,
   "metadata": {},
   "outputs": [
    {
     "data": {
      "text/html": [
       "<div>\n",
       "<style scoped>\n",
       "    .dataframe tbody tr th:only-of-type {\n",
       "        vertical-align: middle;\n",
       "    }\n",
       "\n",
       "    .dataframe tbody tr th {\n",
       "        vertical-align: top;\n",
       "    }\n",
       "\n",
       "    .dataframe thead th {\n",
       "        text-align: right;\n",
       "    }\n",
       "</style>\n",
       "<table border=\"1\" class=\"dataframe\">\n",
       "  <thead>\n",
       "    <tr style=\"text-align: right;\">\n",
       "      <th></th>\n",
       "      <th>Age</th>\n",
       "      <th>Year</th>\n",
       "      <th>Nodes</th>\n",
       "      <th>Survived</th>\n",
       "    </tr>\n",
       "  </thead>\n",
       "  <tbody>\n",
       "    <tr>\n",
       "      <th>0</th>\n",
       "      <td>30</td>\n",
       "      <td>64</td>\n",
       "      <td>1</td>\n",
       "      <td>1</td>\n",
       "    </tr>\n",
       "    <tr>\n",
       "      <th>1</th>\n",
       "      <td>30</td>\n",
       "      <td>62</td>\n",
       "      <td>3</td>\n",
       "      <td>1</td>\n",
       "    </tr>\n",
       "    <tr>\n",
       "      <th>2</th>\n",
       "      <td>30</td>\n",
       "      <td>65</td>\n",
       "      <td>0</td>\n",
       "      <td>1</td>\n",
       "    </tr>\n",
       "    <tr>\n",
       "      <th>3</th>\n",
       "      <td>31</td>\n",
       "      <td>59</td>\n",
       "      <td>2</td>\n",
       "      <td>1</td>\n",
       "    </tr>\n",
       "    <tr>\n",
       "      <th>4</th>\n",
       "      <td>31</td>\n",
       "      <td>65</td>\n",
       "      <td>4</td>\n",
       "      <td>1</td>\n",
       "    </tr>\n",
       "  </tbody>\n",
       "</table>\n",
       "</div>"
      ],
      "text/plain": [
       "   Age  Year  Nodes  Survived\n",
       "0   30    64      1         1\n",
       "1   30    62      3         1\n",
       "2   30    65      0         1\n",
       "3   31    59      2         1\n",
       "4   31    65      4         1"
      ]
     },
     "execution_count": 2,
     "metadata": {},
     "output_type": "execute_result"
    }
   ],
   "source": [
    "#importar conjunto de datos\n",
    "\n",
    "df = pd.read_csv('data_nb.csv')\n",
    "df.head()"
   ]
  },
  {
   "cell_type": "code",
   "execution_count": 3,
   "metadata": {},
   "outputs": [],
   "source": [
    "#El conjunto de datos representan pacientes que han tenido una cirugía para el cancer de seno\n",
    "\n",
    "#En el conjunto de datos de muestra empleado para este ejercio se cuenta con las siguientes características:\n",
    "\n",
    "# Age: edad del paciente\n",
    "# Year: año de operación del paciente\n",
    "# Nodes: Número de tumores detectados\n",
    "# Survived: Es una clase que representa: (1): El paciente sobrevivió 5 años o más (2): El paciente vivió menos de 5 años\n"
   ]
  },
  {
   "cell_type": "code",
   "execution_count": 4,
   "metadata": {},
   "outputs": [
    {
     "data": {
      "image/png": "[encoded data removed]",
      "text/plain": [
       "<Figure size 432x288 with 1 Axes>"
      ]
     },
     "metadata": {
      "needs_background": "light"
     },
     "output_type": "display_data"
    }
   ],
   "source": [
    "# Se grafican los datos las dependencias características en las clases\n",
    "\n",
    "plt.xlabel('Feature')\n",
    "plt.ylabel('Survived')\n",
    "\n",
    "x = df.loc[:, 'Age']\n",
    "y = df.loc[:, 'Survived']\n",
    "plt.scatter(x,y, color='blue', label='Age')\n",
    "\n",
    "x = df.loc[:, 'Year']\n",
    "y = df.loc[:, 'Survived']\n",
    "plt.scatter(x,y, color='green', label='Year')\n",
    "\n",
    "x = df.loc[:, 'Nodes']\n",
    "y = df.loc[:, 'Survived']\n",
    "plt.scatter(x,y, color='red', label='Nodes')\n",
    "\n",
    "plt.legend(loc=4, prop={'size':10})\n",
    "plt.show()"
   ]
  },
  {
   "cell_type": "code",
   "execution_count": 5,
   "metadata": {},
   "outputs": [],
   "source": [
    "#Preparar datos para el entrenamiento\n",
    "\n",
    "x = df.loc[:,'Age':'Nodes']\n",
    "y = df.loc[:, 'Survived']"
   ]
  },
  {
   "cell_type": "code",
   "execution_count": 6,
   "metadata": {},
   "outputs": [
    {
     "data": {
      "text/plain": [
       "GaussianNB(priors=None, var_smoothing=1e-09)"
      ]
     },
     "execution_count": 6,
     "metadata": {},
     "output_type": "execute_result"
    }
   ],
   "source": [
    "#Entrenar el modelo\n",
    "\n",
    "clf = GaussianNB()\n",
    "clf.fit(x,y)"
   ]
  },
  {
   "cell_type": "code",
   "execution_count": 7,
   "metadata": {},
   "outputs": [
    {
     "name": "stdout",
     "output_type": "stream",
     "text": [
      "[1 2]\n"
     ]
    }
   ],
   "source": [
    "#Evaluar el modelo\n",
    "prediction = clf.predict([[12,70,12],[13,20,13]])\n",
    "print(prediction)"
   ]
  },
  {
   "cell_type": "code",
   "execution_count": null,
   "metadata": {},
   "outputs": [],
   "source": []
  }
 ],
 "metadata": {
  "kernelspec": {
   "display_name": "Python 3",
   "language": "python",
   "name": "python3"
  },
  "language_info": {
   "codemirror_mode": {
    "name": "ipython",
    "version": 3
   },
   "file_extension": ".py",
   "mimetype": "text/x-python",
   "name": "python",
   "nbconvert_exporter": "python",
   "pygments_lexer": "ipython3",
   "version": "3.7.2"
  }
 },
 "nbformat": 4,
 "nbformat_minor": 2
}
